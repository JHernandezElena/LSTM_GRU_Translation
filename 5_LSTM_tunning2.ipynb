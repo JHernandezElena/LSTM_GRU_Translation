{
 "cells": [
  {
   "cell_type": "markdown",
   "metadata": {
    "colab_type": "text",
    "id": "JxRczK0-onna"
   },
   "source": [
    "### MODEL TUNNING\n",
    "- ### INCREASED FINAL DROPUT LAYER TO 0,2 TO AVOID OVERFITTING\n",
    "- ### REDUCED BATCH TO 320\n"
   ]
  },
  {
   "cell_type": "markdown",
   "metadata": {
    "colab_type": "text",
    "id": "mFjMXM_lrFT_"
   },
   "source": [
    "### Import Required Libraries"
   ]
  },
  {
   "cell_type": "code",
   "execution_count": 2,
   "metadata": {
    "colab": {},
    "colab_type": "code",
    "id": "QfuvQhqHrFUE"
   },
   "outputs": [
    {
     "name": "stderr",
     "output_type": "stream",
     "text": [
      "UsageError: Line magic function `%` not found.\n"
     ]
    }
   ],
   "source": [
    "import string\n",
    "import re\n",
    "from numpy import array, argmax, random, take\n",
    "import pandas as pd\n",
    "from keras.models import Sequential\n",
    "from keras.layers import Dense, LSTM, Embedding, Bidirectional, RepeatVector, TimeDistributed, Dropout\n",
    "from keras.preprocessing.text import Tokenizer\n",
    "from keras.callbacks import ModelCheckpoint\n",
    "from keras.preprocessing.sequence import pad_sequences\n",
    "from keras.models import load_model\n",
    "from keras import optimizers\n",
    "import matplotlib.pyplot as plt\n",
    "% matplotlib inline\n",
    "pd.set_option('display.max_colwidth', 200)"
   ]
  },
  {
   "cell_type": "markdown",
   "metadata": {
    "colab_type": "text",
    "id": "-TkDJx86rFUk"
   },
   "source": [
    "### Read Data"
   ]
  },
  {
   "cell_type": "markdown",
   "metadata": {
    "colab_type": "text",
    "id": "maMFMj13rFUl"
   },
   "source": [
    "Our data is a text file of English-Spanish sentence pairs. First we will read the file using the function defined below."
   ]
  },
  {
   "cell_type": "code",
   "execution_count": 3,
   "metadata": {
    "colab": {},
    "colab_type": "code",
    "id": "VQBlct8mrFUn"
   },
   "outputs": [],
   "source": [
    "# function to read raw text file\n",
    "def read_text(filename):\n",
    "    # open the file\n",
    "    file = open(filename, mode='rt', encoding='utf-8')\n",
    "    # read all text\n",
    "    text = file.read()\n",
    "    file.close()\n",
    "    return text"
   ]
  },
  {
   "cell_type": "markdown",
   "metadata": {
    "colab_type": "text",
    "id": "eoDOIggQrFUt"
   },
   "source": [
    "Now let's define a function to split the text into English-Spanish pairs separated by '\\n' and then split these pairs into English sentences and Spanish sentences."
   ]
  },
  {
   "cell_type": "code",
   "execution_count": 4,
   "metadata": {
    "colab": {},
    "colab_type": "code",
    "id": "1Za-jDoarFUw"
   },
   "outputs": [],
   "source": [
    "# split a text into sentences\n",
    "def to_lines(text):\n",
    "    sents = text.strip().split('\\n')\n",
    "    sents = [i.split('\\t') for i in sents]\n",
    "    return sents"
   ]
  },
  {
   "cell_type": "markdown",
   "metadata": {
    "colab_type": "text",
    "id": "wAkxvYtxrFU6"
   },
   "source": [
    "__Download the data from [here.](http://www.manythings.org/anki/deu-eng.zip)__ and extract \"spa.txt\" in your working directory."
   ]
  },
  {
   "cell_type": "code",
   "execution_count": null,
   "metadata": {
    "colab": {
     "base_uri": "https://localhost:8080/",
     "height": 52
    },
    "colab_type": "code",
    "executionInfo": {
     "elapsed": 1118,
     "status": "ok",
     "timestamp": 1587994178437,
     "user": {
      "displayName": "Marina Martínez Steegmann",
      "photoUrl": "",
      "userId": "13872820662452395977"
     },
     "user_tz": -120
    },
    "id": "jaqdeOYksW6E",
    "outputId": "85707fe9-d9e0-464d-b50b-a5ecaec6f348"
   },
   "outputs": [],
   "source": [
    "from google.colab import drive\n",
    "drive.mount('/content/drive')\n",
    "\n",
    "# Navigate to code directory\n",
    "%cd /content/drive/My Drive/NLP_Julia"
   ]
  },
  {
   "cell_type": "code",
   "execution_count": 5,
   "metadata": {
    "colab": {},
    "colab_type": "code",
    "id": "7giidivarFU8"
   },
   "outputs": [],
   "source": [
    "data = read_text(\"spa-eng/spa.txt\")\n",
    "spa_eng = to_lines(data)\n",
    "spa_eng = array(spa_eng)[:,0:2] #NOS QUEDAMOS SOLO CON LAS PRIMERAS COLUMNAS QUE TIENEN LA INFORMACION"
   ]
  },
  {
   "cell_type": "markdown",
   "metadata": {
    "colab_type": "text",
    "id": "G1hy6LL4rFVE"
   },
   "source": [
    "The actual data contains over 150,000 sentence-pairs. However, we will use the first 80,000 sentence pairs only to reduce the training time of the model. You can change this number as per you system computation power."
   ]
  },
  {
   "cell_type": "code",
   "execution_count": 6,
   "metadata": {
    "colab": {},
    "colab_type": "code",
    "id": "CLlbn_7CrFVY"
   },
   "outputs": [],
   "source": [
    "#PARA ENTRENAR EL PRIMER MODELO VOY A USARLAS TODAS ASI QUE COMENTO ESTA LINEA\n",
    "spa_eng = spa_eng[:80000,:]"
   ]
  },
  {
   "cell_type": "markdown",
   "metadata": {
    "colab_type": "text",
    "id": "IgGSEJ-yrFVd"
   },
   "source": [
    "### Text Pre-Processing"
   ]
  },
  {
   "cell_type": "markdown",
   "metadata": {
    "colab_type": "text",
    "id": "NYjg2CJ5rFVe"
   },
   "source": [
    "#### Text Cleaning\n",
    "\n",
    "Let's take a look at our data, then we will decide which pre-processing steps to adopt."
   ]
  },
  {
   "cell_type": "code",
   "execution_count": 7,
   "metadata": {
    "colab": {
     "base_uri": "https://localhost:8080/",
     "height": 191
    },
    "colab_type": "code",
    "executionInfo": {
     "elapsed": 2464,
     "status": "ok",
     "timestamp": 1587994179818,
     "user": {
      "displayName": "Marina Martínez Steegmann",
      "photoUrl": "",
      "userId": "13872820662452395977"
     },
     "user_tz": -120
    },
    "id": "QprSH6tXrFVf",
    "outputId": "6f606f48-34f7-46c3-c49d-83ff980401ed",
    "scrolled": true
   },
   "outputs": [
    {
     "data": {
      "text/plain": [
       "array([['Go.', 'Ve.'],\n",
       "       ['Go.', 'Vete.'],\n",
       "       ['Go.', 'Vaya.'],\n",
       "       ...,\n",
       "       ['Suddenly, all the lights went out.',\n",
       "        'De repente se apagaron todas las luces.'],\n",
       "       ['Suddenly, the dog started barking.',\n",
       "        'De repente el perro empezó a ladrar.'],\n",
       "       ['Swimming in the pond is dangerous.',\n",
       "        'Es peligroso nadar en la laguna.']], dtype='<U332')"
      ]
     },
     "execution_count": 7,
     "metadata": {},
     "output_type": "execute_result"
    }
   ],
   "source": [
    "spa_eng"
   ]
  },
  {
   "cell_type": "markdown",
   "metadata": {
    "colab_type": "text",
    "id": "Tw-3xuucrFVj"
   },
   "source": [
    "We will get rid of the punctuation marks, and then convert the text to lower case."
   ]
  },
  {
   "cell_type": "markdown",
   "metadata": {
    "colab_type": "text",
    "id": "Ni6bXQzi0Qnd"
   },
   "source": [
    "#### *IMPORTANTE QUITAR LA EXCLAMACION HACIA ARRIBA PARA EL ESPAÑOL\n",
    "\n"
   ]
  },
  {
   "cell_type": "code",
   "execution_count": 8,
   "metadata": {
    "colab": {},
    "colab_type": "code",
    "id": "_G43XlGzrFVl"
   },
   "outputs": [],
   "source": [
    "# Remove punctuation\n",
    "spa_eng[:,0] = [s.translate(str.maketrans('', '', string.punctuation)) for s in spa_eng[:,0]]\n",
    "spa_eng[:,1] = [s.translate(str.maketrans('', '', string.punctuation)) for s in spa_eng[:,1]]\n",
    "\n",
    "## TAMBIEN QUITAMOS ESTA EXCLAMACION QUE LO ANTERIOR NO LO QUITA\n",
    "spa_eng[:,0] = [s.translate(str.maketrans('', '', '¡')) for s in spa_eng[:,0]]\n",
    "spa_eng[:,1] = [s.translate(str.maketrans('', '', '¡')) for s in spa_eng[:,1]]\n",
    "\n",
    "# convert to lowercase\n",
    "for i in range(len(spa_eng)):\n",
    "    spa_eng[i,0] = spa_eng[i,0].lower()\n",
    "    \n",
    "    spa_eng[i,1] = spa_eng[i,1].lower()"
   ]
  },
  {
   "cell_type": "code",
   "execution_count": 9,
   "metadata": {
    "colab": {
     "base_uri": "https://localhost:8080/",
     "height": 191
    },
    "colab_type": "code",
    "executionInfo": {
     "elapsed": 4364,
     "status": "ok",
     "timestamp": 1587994181740,
     "user": {
      "displayName": "Marina Martínez Steegmann",
      "photoUrl": "",
      "userId": "13872820662452395977"
     },
     "user_tz": -120
    },
    "id": "RNFKNfJDrFWB",
    "outputId": "6149991e-9dba-470d-a842-898d03dc496f"
   },
   "outputs": [
    {
     "data": {
      "text/plain": [
       "array([['go', 've'],\n",
       "       ['go', 'vete'],\n",
       "       ['go', 'vaya'],\n",
       "       ...,\n",
       "       ['suddenly all the lights went out',\n",
       "        'de repente se apagaron todas las luces'],\n",
       "       ['suddenly the dog started barking',\n",
       "        'de repente el perro empezó a ladrar'],\n",
       "       ['swimming in the pond is dangerous',\n",
       "        'es peligroso nadar en la laguna']], dtype='<U332')"
      ]
     },
     "execution_count": 9,
     "metadata": {},
     "output_type": "execute_result"
    }
   ],
   "source": [
    "spa_eng"
   ]
  },
  {
   "cell_type": "markdown",
   "metadata": {
    "colab_type": "text",
    "id": "B0wbcBMDrFWL"
   },
   "source": [
    "#### Text to Sequence Conversion\n",
    "\n",
    "To feed our data in a Seq2Seq model, we will have to convert both the input and the output sentences into integer sequences of fixed length. Before that, let's visualise the length of the sentences. We will capture the lengths of all the sentences in two separate lists for English and Spanish, respectively."
   ]
  },
  {
   "cell_type": "code",
   "execution_count": 10,
   "metadata": {
    "colab": {},
    "colab_type": "code",
    "id": "8j330RxorFWV"
   },
   "outputs": [],
   "source": [
    "# empty lists\n",
    "eng_l = []\n",
    "spa_l = []\n",
    "\n",
    "# populate the lists with sentence lengths\n",
    "for i in spa_eng[:,0]:\n",
    "    eng_l.append(len(i.split()))\n",
    "\n",
    "for i in spa_eng[:,1]:\n",
    "    spa_l.append(len(i.split()))"
   ]
  },
  {
   "cell_type": "code",
   "execution_count": 11,
   "metadata": {
    "colab": {
     "base_uri": "https://localhost:8080/",
     "height": 295
    },
    "colab_type": "code",
    "executionInfo": {
     "elapsed": 4316,
     "status": "ok",
     "timestamp": 1587994181742,
     "user": {
      "displayName": "Marina Martínez Steegmann",
      "photoUrl": "",
      "userId": "13872820662452395977"
     },
     "user_tz": -120
    },
    "id": "B-_oTwiyrFWd",
    "outputId": "5d96861f-3aba-41ab-f00d-c9ad300f9d41"
   },
   "outputs": [
    {
     "name": "stdout",
     "output_type": "stream",
     "text": [
      "10\n",
      "15\n"
     ]
    }
   ],
   "source": [
    "length_df = pd.DataFrame({'eng':eng_l, 'spa':spa_l})\n",
    "#print(length_df)\n",
    "print(max(length_df.eng))\n",
    "print(max(length_df.spa))"
   ]
  },
  {
   "cell_type": "code",
   "execution_count": 12,
   "metadata": {
    "colab": {
     "base_uri": "https://localhost:8080/",
     "height": 281
    },
    "colab_type": "code",
    "executionInfo": {
     "elapsed": 4756,
     "status": "ok",
     "timestamp": 1587994182198,
     "user": {
      "displayName": "Marina Martínez Steegmann",
      "photoUrl": "",
      "userId": "13872820662452395977"
     },
     "user_tz": -120
    },
    "id": "yf2z3GdorFWj",
    "outputId": "faa9ecb4-8efc-49ee-f2dc-bbb5f1a09f2a"
   },
   "outputs": [
    {
     "data": {
      "image/png": "[encoded data removed]",
      "text/plain": [
       "<Figure size 432x288 with 2 Axes>"
      ]
     },
     "metadata": {
      "needs_background": "light"
     },
     "output_type": "display_data"
    }
   ],
   "source": [
    "length_df.hist(bins = 30)\n",
    "plt.show()"
   ]
  },
  {
   "cell_type": "markdown",
   "metadata": {
    "colab_type": "text",
    "id": "8z5mQcPmrFXH"
   },
   "source": [
    "The maximum length of the Spanish sentences is 15 and that of the English phrases is 10.\n"
   ]
  },
  {
   "cell_type": "markdown",
   "metadata": {
    "colab_type": "text",
    "id": "jxKFJWgCrFXJ"
   },
   "source": [
    "Let's vectorize our text data by using Keras's Tokenizer() class. It will turn our sentences into sequences of integers. Then we will pad those sequences with zeros to make all the sequences of same length."
   ]
  },
  {
   "cell_type": "code",
   "execution_count": 13,
   "metadata": {
    "colab": {},
    "colab_type": "code",
    "id": "nesa1bvFrFXK"
   },
   "outputs": [],
   "source": [
    "# function to build a tokenizer\n",
    "def tokenization(lines):\n",
    "    tokenizer = Tokenizer()\n",
    "    tokenizer.fit_on_texts(lines)\n",
    "    return tokenizer"
   ]
  },
  {
   "cell_type": "code",
   "execution_count": 14,
   "metadata": {
    "colab": {
     "base_uri": "https://localhost:8080/",
     "height": 35
    },
    "colab_type": "code",
    "executionInfo": {
     "elapsed": 6052,
     "status": "ok",
     "timestamp": 1587994183523,
     "user": {
      "displayName": "Marina Martínez Steegmann",
      "photoUrl": "",
      "userId": "13872820662452395977"
     },
     "user_tz": -120
    },
    "id": "NYOyPFIyrFXR",
    "outputId": "3539de55-22c2-4d8e-bcee-77d24a625a67"
   },
   "outputs": [
    {
     "name": "stdout",
     "output_type": "stream",
     "text": [
      "English Vocabulary Size: 9440\n"
     ]
    }
   ],
   "source": [
    "# prepare english tokenizer\n",
    "eng_tokenizer = tokenization(spa_eng[:, 0])\n",
    "eng_vocab_size = len(eng_tokenizer.word_index) + 1\n",
    "\n",
    "eng_length = 15\n",
    "print('English Vocabulary Size: %d' % eng_vocab_size)"
   ]
  },
  {
   "cell_type": "code",
   "execution_count": 15,
   "metadata": {
    "colab": {
     "base_uri": "https://localhost:8080/",
     "height": 35
    },
    "colab_type": "code",
    "executionInfo": {
     "elapsed": 7894,
     "status": "ok",
     "timestamp": 1587994185380,
     "user": {
      "displayName": "Marina Martínez Steegmann",
      "photoUrl": "",
      "userId": "13872820662452395977"
     },
     "user_tz": -120
    },
    "id": "tWCyyEldrFXk",
    "outputId": "3bb40740-2998-4a04-f710-280010da5390"
   },
   "outputs": [
    {
     "name": "stdout",
     "output_type": "stream",
     "text": [
      "Spanish Vocabulary Size: 18823\n"
     ]
    }
   ],
   "source": [
    "# prepare Spanish tokenizer\n",
    "spa_tokenizer = tokenization(spa_eng[:, 1])\n",
    "spa_vocab_size = len(spa_tokenizer.word_index) + 1\n",
    "\n",
    "spa_length = 15\n",
    "print('Spanish Vocabulary Size: %d' % spa_vocab_size)"
   ]
  },
  {
   "cell_type": "code",
   "execution_count": 16,
   "metadata": {
    "colab": {
     "base_uri": "https://localhost:8080/",
     "height": 55
    },
    "colab_type": "code",
    "executionInfo": {
     "elapsed": 7881,
     "status": "ok",
     "timestamp": 1587994185381,
     "user": {
      "displayName": "Marina Martínez Steegmann",
      "photoUrl": "",
      "userId": "13872820662452395977"
     },
     "user_tz": -120
    },
    "id": "LBhHRk6brFXs",
    "outputId": "311206ef-8b18-4f60-c27f-abeb653a9843"
   },
   "outputs": [],
   "source": [
    "##print(spa_tokenizer.word_counts)"
   ]
  },
  {
   "cell_type": "markdown",
   "metadata": {
    "colab_type": "text",
    "id": "vdZRXOk9rFX3"
   },
   "source": [
    "Given below is a function to prepare the sequences. It will also perform sequence padding to a maximum sentence length as mentioned above. "
   ]
  },
  {
   "cell_type": "code",
   "execution_count": 17,
   "metadata": {
    "colab": {},
    "colab_type": "code",
    "id": "6dIbwHXSrFYV"
   },
   "outputs": [],
   "source": [
    "# encode and pad sequences\n",
    "def encode_sequences(tokenizer, length, lines):\n",
    "    # integer encode sequences\n",
    "    seq = tokenizer.texts_to_sequences(lines)\n",
    "    # pad sequences with 0 values\n",
    "    seq = pad_sequences(seq, maxlen=length, padding='post')\n",
    "    print(seq)\n",
    "    print(len(seq))\n",
    "    return seq"
   ]
  },
  {
   "cell_type": "markdown",
   "metadata": {
    "colab_type": "text",
    "id": "ZVztVGf1rFYc"
   },
   "source": [
    "### Model Building"
   ]
  },
  {
   "cell_type": "markdown",
   "metadata": {
    "colab_type": "text",
    "id": "hB3iVhwurFYd"
   },
   "source": [
    "We will now split the data into train and test set for model training and evaluation, respectively."
   ]
  },
  {
   "cell_type": "code",
   "execution_count": 18,
   "metadata": {
    "colab": {},
    "colab_type": "code",
    "id": "2BnkO2GRrFYe"
   },
   "outputs": [],
   "source": [
    "from sklearn.model_selection import train_test_split\n",
    "train, test = train_test_split(spa_eng, test_size=0.2, random_state = 12)"
   ]
  },
  {
   "cell_type": "markdown",
   "metadata": {
    "colab_type": "text",
    "id": "U5KdmUhXrFYm"
   },
   "source": [
    "It's time to encode the sentences. We will encode Spanish sentences as the input sequences and English sentences as the target sequences. It will be done for both train and test datasets."
   ]
  },
  {
   "cell_type": "code",
   "execution_count": 19,
   "metadata": {
    "colab": {
     "base_uri": "https://localhost:8080/",
     "height": 295
    },
    "colab_type": "code",
    "executionInfo": {
     "elapsed": 9899,
     "status": "ok",
     "timestamp": 1587994187435,
     "user": {
      "displayName": "Marina Martínez Steegmann",
      "photoUrl": "",
      "userId": "13872820662452395977"
     },
     "user_tz": -120
    },
    "id": "CVL40bhMrFYn",
    "outputId": "baac9862-e4e7-464c-acec-48382be29f50"
   },
   "outputs": [
    {
     "name": "stdout",
     "output_type": "stream",
     "text": [
      "[[  11  246    4 ...    0    0    0]\n",
      " [  93   15    7 ...    0    0    0]\n",
      " [  40    6    4 ...    0    0    0]\n",
      " ...\n",
      " [  14  292  100 ...    0    0    0]\n",
      " [  52  250 2008 ...    0    0    0]\n",
      " [  18  127 1589 ...    0    0    0]]\n",
      "64000\n",
      "[[   1  223    2 ...    0    0    0]\n",
      " [ 388    5 1608 ...    0    0    0]\n",
      " [  12    7   92 ...    0    0    0]\n",
      " ...\n",
      " [   2  117   10 ...    0    0    0]\n",
      " [  55  480  576 ...    0    0    0]\n",
      " [  13  165  850 ...    0    0    0]]\n",
      "64000\n"
     ]
    }
   ],
   "source": [
    "# prepare training data\n",
    "trainX = encode_sequences(spa_tokenizer, spa_length, train[:, 1])\n",
    "trainY = encode_sequences(eng_tokenizer, eng_length, train[:, 0])"
   ]
  },
  {
   "cell_type": "code",
   "execution_count": 20,
   "metadata": {
    "colab": {
     "base_uri": "https://localhost:8080/",
     "height": 52
    },
    "colab_type": "code",
    "executionInfo": {
     "elapsed": 9888,
     "status": "ok",
     "timestamp": 1587994187435,
     "user": {
      "displayName": "Marina Martínez Steegmann",
      "photoUrl": "",
      "userId": "13872820662452395977"
     },
     "user_tz": -120
    },
    "id": "ixhtGaQKrFY7",
    "outputId": "1a5b57e7-e05e-4448-c962-f75e3059224e"
   },
   "outputs": [
    {
     "name": "stdout",
     "output_type": "stream",
     "text": [
      "(64000, 15)\n",
      "(64000, 15)\n"
     ]
    }
   ],
   "source": [
    "print(trainX.shape)\n",
    "print(trainY.shape)"
   ]
  },
  {
   "cell_type": "code",
   "execution_count": 21,
   "metadata": {
    "colab": {
     "base_uri": "https://localhost:8080/",
     "height": 295
    },
    "colab_type": "code",
    "executionInfo": {
     "elapsed": 10247,
     "status": "ok",
     "timestamp": 1587994187804,
     "user": {
      "displayName": "Marina Martínez Steegmann",
      "photoUrl": "",
      "userId": "13872820662452395977"
     },
     "user_tz": -120
    },
    "id": "kFay-bWIrFZG",
    "outputId": "b481d87d-104c-462c-92bf-1d8aa55f2f90"
   },
   "outputs": [
    {
     "name": "stdout",
     "output_type": "stream",
     "text": [
      "[[   1  946 7114 ...    0    0    0]\n",
      " [  25 6256    0 ...    0    0    0]\n",
      " [ 747   33  121 ...    0    0    0]\n",
      " ...\n",
      " [   3    1    2 ...    0    0    0]\n",
      " [ 189  236  451 ...    0    0    0]\n",
      " [7627 3437 2486 ...    0    0    0]]\n",
      "16000\n",
      "[[   3  350   33 ...    0    0    0]\n",
      " [1172   10    0 ...    0    0    0]\n",
      " [  57   62   97 ...    0    0    0]\n",
      " ...\n",
      " [   3   87   29 ...    0    0    0]\n",
      " [ 133    1   59 ...    0    0    0]\n",
      " [  90  856   24 ...    0    0    0]]\n",
      "16000\n"
     ]
    }
   ],
   "source": [
    "# prepare validation data\n",
    "testX = encode_sequences(spa_tokenizer, spa_length, test[:, 1])\n",
    "testY = encode_sequences(eng_tokenizer, eng_length, test[:, 0])"
   ]
  },
  {
   "cell_type": "code",
   "execution_count": 22,
   "metadata": {
    "colab": {
     "base_uri": "https://localhost:8080/",
     "height": 52
    },
    "colab_type": "code",
    "executionInfo": {
     "elapsed": 10238,
     "status": "ok",
     "timestamp": 1587994187805,
     "user": {
      "displayName": "Marina Martínez Steegmann",
      "photoUrl": "",
      "userId": "13872820662452395977"
     },
     "user_tz": -120
    },
    "id": "BmXQ8jDCrFZO",
    "outputId": "538d1d1d-6811-47c4-b261-22c071cdcf4b"
   },
   "outputs": [
    {
     "name": "stdout",
     "output_type": "stream",
     "text": [
      "(16000, 15)\n",
      "(16000, 15)\n"
     ]
    }
   ],
   "source": [
    "print(testX.shape)\n",
    "print(testY.shape)"
   ]
  },
  {
   "cell_type": "markdown",
   "metadata": {
    "colab_type": "text",
    "id": "cB3OPvgYrFZw"
   },
   "source": [
    "Now comes the exciting part! Let us define our Seq2Seq model architecture. We are using an Embedding layer and an LSTM layer as our encoder and another LSTM layer followed by a Dense layer as the decoder.  "
   ]
  },
  {
   "cell_type": "code",
   "execution_count": 23,
   "metadata": {
    "colab": {},
    "colab_type": "code",
    "id": "XjiL6OtmrFaM"
   },
   "outputs": [],
   "source": [
    "# build NMT model (LSTM)\n",
    "def build_model(in_vocab, out_vocab, in_timesteps, out_timesteps, units):\n",
    "    model = Sequential()\n",
    "    model.add(Embedding(in_vocab, units, input_length=in_timesteps, mask_zero=True))\n",
    "    model.add(LSTM(units,return_sequences=True))\n",
    "    model.add(Dropout(0.1))\n",
    "    model.add(LSTM(units))\n",
    "    model.add(RepeatVector(out_timesteps))    \n",
    "    model.add(LSTM(units, return_sequences=True))\n",
    "    model.add(Dropout(0.2))\n",
    "    model.add(Dense(out_vocab, activation='softmax'))\n",
    "    return model"
   ]
  },
  {
   "cell_type": "markdown",
   "metadata": {
    "colab_type": "text",
    "id": "XoqneCForFfj"
   },
   "source": [
    "We are using RMSprop optimizer in this model as it is usually a good choice for recurrent neural networks."
   ]
  },
  {
   "cell_type": "code",
   "execution_count": 24,
   "metadata": {
    "colab": {
     "base_uri": "https://localhost:8080/",
     "height": 87
    },
    "colab_type": "code",
    "executionInfo": {
     "elapsed": 10215,
     "status": "ok",
     "timestamp": 1587994187807,
     "user": {
      "displayName": "Marina Martínez Steegmann",
      "photoUrl": "",
      "userId": "13872820662452395977"
     },
     "user_tz": -120
    },
    "id": "aGeKX43yrFfk",
    "outputId": "3398e8ab-415b-4763-f6bd-e18eae95d574"
   },
   "outputs": [
    {
     "name": "stdout",
     "output_type": "stream",
     "text": [
      "18823\n",
      "9440\n",
      "15\n",
      "15\n"
     ]
    }
   ],
   "source": [
    "print(spa_vocab_size)\n",
    "print(eng_vocab_size)\n",
    "print(spa_length)\n",
    "print(eng_length)"
   ]
  },
  {
   "cell_type": "code",
   "execution_count": 25,
   "metadata": {
    "colab": {},
    "colab_type": "code",
    "id": "DDu2i0FMrFfo"
   },
   "outputs": [],
   "source": [
    "model = build_model(spa_vocab_size, eng_vocab_size, spa_length, eng_length, 512)\n",
    "rms = optimizers.RMSprop(lr=0.001)\n",
    "model.compile(optimizer=rms, loss='sparse_categorical_crossentropy')"
   ]
  },
  {
   "cell_type": "markdown",
   "metadata": {
    "colab_type": "text",
    "id": "FIywBS1orFfs"
   },
   "source": [
    "Please note that we have used __'sparse_categorical_crossentropy'__ as the loss function because it allows us to use the target sequence as it is instead of one hot encoded format. One hot encoding the target sequences with such a huge vocabulary might consume our system's entire memory."
   ]
  },
  {
   "cell_type": "markdown",
   "metadata": {
    "colab_type": "text",
    "id": "ZA0rtHwCrFft"
   },
   "source": [
    "It seems we are all set to start training our model. We will train it for 35 epochs and with a batch size of 320. You may change and play these hyperparameters. We will also be using __ModelCheckpoint()__ to save the best model with lowest validation loss. I personally prefer this method over early stopping."
   ]
  },
  {
   "cell_type": "code",
   "execution_count": 26,
   "metadata": {
    "colab": {
     "base_uri": "https://localhost:8080/",
     "height": 1000
    },
    "colab_type": "code",
    "executionInfo": {
     "elapsed": 1689585,
     "status": "ok",
     "timestamp": 1587995915485,
     "user": {
      "displayName": "Marina Martínez Steegmann",
      "photoUrl": "",
      "userId": "13872820662452395977"
     },
     "user_tz": -120
    },
    "id": "PkhQtVfDrFft",
    "outputId": "63c6bd46-6629-438b-ef82-69ffff2763d8",
    "scrolled": true
   },
   "outputs": [
    {
     "name": "stderr",
     "output_type": "stream",
     "text": [
      "/home/jhelena/.local/lib/python3.7/site-packages/tensorflow_core/python/framework/indexed_slices.py:433: UserWarning: Converting sparse IndexedSlices to a dense Tensor of unknown shape. This may consume a large amount of memory.\n",
      "  \"Converting sparse IndexedSlices to a dense Tensor of unknown shape. \"\n"
     ]
    },
    {
     "name": "stdout",
     "output_type": "stream",
     "text": [
      "Train on 51200 samples, validate on 12800 samples\n",
      "Epoch 1/35\n",
      "51200/51200 [==============================] - 162s 3ms/step - loss: 2.3598 - val_loss: 2.1248\n",
      "\n",
      "Epoch 00001: val_loss improved from inf to 2.12483, saving model to modelLSTM5.h1\n",
      "Epoch 2/35\n",
      "51200/51200 [==============================] - 161s 3ms/step - loss: 1.9986 - val_loss: 1.9802\n",
      "\n",
      "Epoch 00002: val_loss improved from 2.12483 to 1.98017, saving model to modelLSTM5.h1\n",
      "Epoch 3/35\n",
      "51200/51200 [==============================] - 161s 3ms/step - loss: 1.8825 - val_loss: 1.8430\n",
      "\n",
      "Epoch 00003: val_loss improved from 1.98017 to 1.84301, saving model to modelLSTM5.h1\n",
      "Epoch 4/35\n",
      "51200/51200 [==============================] - 160s 3ms/step - loss: 1.7550 - val_loss: 1.7180\n",
      "\n",
      "Epoch 00004: val_loss improved from 1.84301 to 1.71797, saving model to modelLSTM5.h1\n",
      "Epoch 5/35\n",
      "51200/51200 [==============================] - 161s 3ms/step - loss: 1.6252 - val_loss: 1.6187\n",
      "\n",
      "Epoch 00005: val_loss improved from 1.71797 to 1.61870, saving model to modelLSTM5.h1\n",
      "Epoch 6/35\n",
      "51200/51200 [==============================] - 161s 3ms/step - loss: 1.5118 - val_loss: 1.5477\n",
      "\n",
      "Epoch 00006: val_loss improved from 1.61870 to 1.54770, saving model to modelLSTM5.h1\n",
      "Epoch 7/35\n",
      "51200/51200 [==============================] - 161s 3ms/step - loss: 1.4132 - val_loss: 1.4439\n",
      "\n",
      "Epoch 00007: val_loss improved from 1.54770 to 1.44387, saving model to modelLSTM5.h1\n",
      "Epoch 8/35\n",
      "51200/51200 [==============================] - 163s 3ms/step - loss: 1.3275 - val_loss: 1.4243\n",
      "\n",
      "Epoch 00008: val_loss improved from 1.44387 to 1.42433, saving model to modelLSTM5.h1\n",
      "Epoch 9/35\n",
      "51200/51200 [==============================] - 162s 3ms/step - loss: 1.2465 - val_loss: 1.3396\n",
      "\n",
      "Epoch 00009: val_loss improved from 1.42433 to 1.33965, saving model to modelLSTM5.h1\n",
      "Epoch 10/35\n",
      "51200/51200 [==============================] - 160s 3ms/step - loss: 1.1714 - val_loss: 1.2868\n",
      "\n",
      "Epoch 00010: val_loss improved from 1.33965 to 1.28678, saving model to modelLSTM5.h1\n",
      "Epoch 11/35\n",
      "51200/51200 [==============================] - 160s 3ms/step - loss: 1.1004 - val_loss: 1.2454\n",
      "\n",
      "Epoch 00011: val_loss improved from 1.28678 to 1.24540, saving model to modelLSTM5.h1\n",
      "Epoch 12/35\n",
      "51200/51200 [==============================] - 160s 3ms/step - loss: 1.0362 - val_loss: 1.2052\n",
      "\n",
      "Epoch 00012: val_loss improved from 1.24540 to 1.20519, saving model to modelLSTM5.h1\n",
      "Epoch 13/35\n",
      "51200/51200 [==============================] - 159s 3ms/step - loss: 0.9770 - val_loss: 1.1840\n",
      "\n",
      "Epoch 00013: val_loss improved from 1.20519 to 1.18402, saving model to modelLSTM5.h1\n",
      "Epoch 14/35\n",
      "51200/51200 [==============================] - 160s 3ms/step - loss: 0.9211 - val_loss: 1.1584\n",
      "\n",
      "Epoch 00014: val_loss improved from 1.18402 to 1.15843, saving model to modelLSTM5.h1\n",
      "Epoch 15/35\n",
      "51200/51200 [==============================] - 160s 3ms/step - loss: 0.8704 - val_loss: 1.1396\n",
      "\n",
      "Epoch 00015: val_loss improved from 1.15843 to 1.13962, saving model to modelLSTM5.h1\n",
      "Epoch 16/35\n",
      "51200/51200 [==============================] - 160s 3ms/step - loss: 0.8198 - val_loss: 1.1119\n",
      "\n",
      "Epoch 00016: val_loss improved from 1.13962 to 1.11187, saving model to modelLSTM5.h1\n",
      "Epoch 17/35\n",
      "51200/51200 [==============================] - 160s 3ms/step - loss: 0.7735 - val_loss: 1.1078\n",
      "\n",
      "Epoch 00017: val_loss improved from 1.11187 to 1.10785, saving model to modelLSTM5.h1\n",
      "Epoch 18/35\n",
      "51200/51200 [==============================] - 160s 3ms/step - loss: 0.7305 - val_loss: 1.0902\n",
      "\n",
      "Epoch 00018: val_loss improved from 1.10785 to 1.09023, saving model to modelLSTM5.h1\n",
      "Epoch 19/35\n",
      "51200/51200 [==============================] - 160s 3ms/step - loss: 0.6888 - val_loss: 1.0807\n",
      "\n",
      "Epoch 00019: val_loss improved from 1.09023 to 1.08071, saving model to modelLSTM5.h1\n",
      "Epoch 20/35\n",
      "51200/51200 [==============================] - 160s 3ms/step - loss: 0.6509 - val_loss: 1.0799\n",
      "\n",
      "Epoch 00020: val_loss improved from 1.08071 to 1.07993, saving model to modelLSTM5.h1\n",
      "Epoch 21/35\n",
      "51200/51200 [==============================] - 159s 3ms/step - loss: 0.6141 - val_loss: 1.0712\n",
      "\n",
      "Epoch 00021: val_loss improved from 1.07993 to 1.07117, saving model to modelLSTM5.h1\n",
      "Epoch 22/35\n",
      "51200/51200 [==============================] - 160s 3ms/step - loss: 0.5806 - val_loss: 1.0840\n",
      "\n",
      "Epoch 00022: val_loss did not improve from 1.07117\n",
      "Epoch 23/35\n",
      "51200/51200 [==============================] - 159s 3ms/step - loss: 0.5484 - val_loss: 1.0839\n",
      "\n",
      "Epoch 00023: val_loss did not improve from 1.07117\n",
      "Epoch 24/35\n",
      "51200/51200 [==============================] - 159s 3ms/step - loss: 0.5175 - val_loss: 1.0740\n",
      "\n",
      "Epoch 00024: val_loss did not improve from 1.07117\n",
      "Epoch 25/35\n",
      "51200/51200 [==============================] - 160s 3ms/step - loss: 0.4889 - val_loss: 1.0841\n",
      "\n",
      "Epoch 00025: val_loss did not improve from 1.07117\n",
      "Epoch 26/35\n",
      "51200/51200 [==============================] - 160s 3ms/step - loss: 0.4625 - val_loss: 1.0738\n",
      "\n",
      "Epoch 00026: val_loss did not improve from 1.07117\n",
      "Epoch 27/35\n",
      "51200/51200 [==============================] - 159s 3ms/step - loss: 0.4377 - val_loss: 1.0794\n",
      "\n",
      "Epoch 00027: val_loss did not improve from 1.07117\n",
      "Epoch 28/35\n",
      "51200/51200 [==============================] - 160s 3ms/step - loss: 0.4136 - val_loss: 1.0896\n",
      "\n",
      "Epoch 00028: val_loss did not improve from 1.07117\n",
      "Epoch 29/35\n",
      "51200/51200 [==============================] - 160s 3ms/step - loss: 0.3910 - val_loss: 1.1156\n",
      "\n",
      "Epoch 00029: val_loss did not improve from 1.07117\n",
      "Epoch 30/35\n",
      "51200/51200 [==============================] - 160s 3ms/step - loss: 0.3700 - val_loss: 1.1041\n",
      "\n",
      "Epoch 00030: val_loss did not improve from 1.07117\n",
      "Epoch 31/35\n",
      "51200/51200 [==============================] - 160s 3ms/step - loss: 0.3502 - val_loss: 1.1038\n",
      "\n",
      "Epoch 00031: val_loss did not improve from 1.07117\n",
      "Epoch 32/35\n",
      "51200/51200 [==============================] - 160s 3ms/step - loss: 0.3327 - val_loss: 1.1108\n",
      "\n",
      "Epoch 00032: val_loss did not improve from 1.07117\n",
      "Epoch 33/35\n",
      "51200/51200 [==============================] - 160s 3ms/step - loss: 0.3168 - val_loss: 1.1235\n",
      "\n",
      "Epoch 00033: val_loss did not improve from 1.07117\n",
      "Epoch 34/35\n",
      "51200/51200 [==============================] - 160s 3ms/step - loss: 0.2998 - val_loss: 1.1261\n",
      "\n",
      "Epoch 00034: val_loss did not improve from 1.07117\n",
      "Epoch 35/35\n",
      "51200/51200 [==============================] - 160s 3ms/step - loss: 0.2845 - val_loss: 1.1423\n",
      "\n",
      "Epoch 00035: val_loss did not improve from 1.07117\n"
     ]
    }
   ],
   "source": [
    "filename = 'modelLSTM5.h1'\n",
    "checkpoint = ModelCheckpoint(filename, monitor='val_loss', verbose=1, save_best_only=True, mode='min')\n",
    "\n",
    "history = model.fit(trainX, trainY.reshape(trainY.shape[0], trainY.shape[1], 1), \n",
    "          epochs=35, batch_size=320, #512 \n",
    "          validation_split = 0.2,\n",
    "          callbacks=[checkpoint], verbose=1)"
   ]
  },
  {
   "cell_type": "markdown",
   "metadata": {
    "colab_type": "text",
    "id": "_m-YgnEDrFf0"
   },
   "source": [
    "Let's compare the training loss and the validation loss."
   ]
  },
  {
   "cell_type": "code",
   "execution_count": 27,
   "metadata": {
    "colab": {
     "base_uri": "https://localhost:8080/",
     "height": 266
    },
    "colab_type": "code",
    "executionInfo": {
     "elapsed": 1051,
     "status": "ok",
     "timestamp": 1587995949133,
     "user": {
      "displayName": "Marina Martínez Steegmann",
      "photoUrl": "",
      "userId": "13872820662452395977"
     },
     "user_tz": -120
    },
    "id": "tVCZmNRArFf2",
    "outputId": "f14d2abe-8256-4092-8dd9-c7d68d89af4f"
   },
   "outputs": [
    {
     "data": {
      "image/png": "[encoded data removed]",
      "text/plain": [
       "<Figure size 432x288 with 1 Axes>"
      ]
     },
     "metadata": {
      "needs_background": "light"
     },
     "output_type": "display_data"
    }
   ],
   "source": [
    "plt.plot(history.history['loss'])\n",
    "plt.plot(history.history['val_loss'])\n",
    "plt.legend(['train','validation'])\n",
    "plt.show()"
   ]
  },
  {
   "cell_type": "markdown",
   "metadata": {
    "colab_type": "text",
    "id": "lUpkQyCfrFgH"
   },
   "source": [
    "### Make Predictions"
   ]
  },
  {
   "cell_type": "markdown",
   "metadata": {
    "colab_type": "text",
    "id": "l2ZRBLYWrFgj"
   },
   "source": [
    "Let's load the saved model to make predictions."
   ]
  },
  {
   "cell_type": "code",
   "execution_count": 28,
   "metadata": {
    "colab": {
     "base_uri": "https://localhost:8080/",
     "height": 183
    },
    "colab_type": "code",
    "executionInfo": {
     "elapsed": 2072,
     "status": "error",
     "timestamp": 1588001195764,
     "user": {
      "displayName": "Marina Martínez Steegmann",
      "photoUrl": "",
      "userId": "13872820662452395977"
     },
     "user_tz": -120
    },
    "id": "tzzkClmKrFgw",
    "outputId": "2047a843-1741-4d7e-d082-75ea6f19f8c1"
   },
   "outputs": [
    {
     "name": "stderr",
     "output_type": "stream",
     "text": [
      "/home/jhelena/.local/lib/python3.7/site-packages/tensorflow_core/python/framework/indexed_slices.py:433: UserWarning: Converting sparse IndexedSlices to a dense Tensor of unknown shape. This may consume a large amount of memory.\n",
      "  \"Converting sparse IndexedSlices to a dense Tensor of unknown shape. \"\n"
     ]
    }
   ],
   "source": [
    "model = load_model('modelLSTM5.h1')\n",
    "preds = model.predict_classes(testX.reshape((testX.shape[0],testX.shape[1])))"
   ]
  },
  {
   "cell_type": "code",
   "execution_count": 29,
   "metadata": {
    "colab": {},
    "colab_type": "code",
    "id": "HyNCtu4mrFiJ"
   },
   "outputs": [],
   "source": [
    "def get_word(n, tokenizer):\n",
    "    for word, index in tokenizer.word_index.items():\n",
    "        if index == n:\n",
    "            return word\n",
    "    return None"
   ]
  },
  {
   "cell_type": "code",
   "execution_count": 30,
   "metadata": {
    "colab": {},
    "colab_type": "code",
    "id": "tJ8E4c_crFjQ"
   },
   "outputs": [],
   "source": [
    "# convert predictions into text (English)\n",
    "preds_text = []\n",
    "for i in preds:\n",
    "    temp = []\n",
    "    for j in range(len(i)):\n",
    "        t = get_word(i[j], eng_tokenizer)\n",
    "        if j > 0:\n",
    "            if (t == get_word(i[j-1], eng_tokenizer)) or (t == None):\n",
    "                temp.append('')\n",
    "            else:\n",
    "                temp.append(t)\n",
    "             \n",
    "        else:\n",
    "            if(t == None):\n",
    "                temp.append('')\n",
    "            else:\n",
    "                temp.append(t)            \n",
    "        \n",
    "    preds_text.append(' '.join(temp))"
   ]
  },
  {
   "cell_type": "code",
   "execution_count": 31,
   "metadata": {
    "colab": {},
    "colab_type": "code",
    "id": "zbdmiipLrFkn"
   },
   "outputs": [],
   "source": [
    "pred_df = pd.DataFrame({'Spanish':  test[:,1], 'actual traduction' : test[:,0], 'predicted' : preds_text})\n",
    "pd.set_option('display.max_colwidth', 200)"
   ]
  },
  {
   "cell_type": "code",
   "execution_count": 32,
   "metadata": {
    "colab": {
     "base_uri": "https://localhost:8080/",
     "height": 509
    },
    "colab_type": "code",
    "executionInfo": {
     "elapsed": 359309,
     "status": "ok",
     "timestamp": 1587996315020,
     "user": {
      "displayName": "Marina Martínez Steegmann",
      "photoUrl": "",
      "userId": "13872820662452395977"
     },
     "user_tz": -120
    },
    "id": "PfXt-Su_rFmv",
    "outputId": "e854d2d6-264f-49c2-9c27-f8cbf3659ed5"
   },
   "outputs": [
    {
     "data": {
      "text/html": [
       "<div>\n",
       "<style scoped>\n",
       "    .dataframe tbody tr th:only-of-type {\n",
       "        vertical-align: middle;\n",
       "    }\n",
       "\n",
       "    .dataframe tbody tr th {\n",
       "        vertical-align: top;\n",
       "    }\n",
       "\n",
       "    .dataframe thead th {\n",
       "        text-align: right;\n",
       "    }\n",
       "</style>\n",
       "<table border=\"1\" class=\"dataframe\">\n",
       "  <thead>\n",
       "    <tr style=\"text-align: right;\">\n",
       "      <th></th>\n",
       "      <th>Spanish</th>\n",
       "      <th>actual traduction</th>\n",
       "      <th>predicted</th>\n",
       "    </tr>\n",
       "  </thead>\n",
       "  <tbody>\n",
       "    <tr>\n",
       "      <th>0</th>\n",
       "      <td>tom sentía temblar sus rodillas</td>\n",
       "      <td>tom felt his knees tremble</td>\n",
       "      <td>tom lost his</td>\n",
       "    </tr>\n",
       "    <tr>\n",
       "      <th>1</th>\n",
       "      <td>eso valdrá</td>\n",
       "      <td>thatll do</td>\n",
       "      <td>thatll do</td>\n",
       "    </tr>\n",
       "    <tr>\n",
       "      <th>2</th>\n",
       "      <td>volveré más tarde</td>\n",
       "      <td>ill come back later</td>\n",
       "      <td>ill will back later</td>\n",
       "    </tr>\n",
       "    <tr>\n",
       "      <th>3</th>\n",
       "      <td>estoy reventado</td>\n",
       "      <td>i am exhausted</td>\n",
       "      <td>im exhausted</td>\n",
       "    </tr>\n",
       "    <tr>\n",
       "      <th>4</th>\n",
       "      <td>no lo hagáis</td>\n",
       "      <td>dont do it</td>\n",
       "      <td>dont ask it</td>\n",
       "    </tr>\n",
       "    <tr>\n",
       "      <th>5</th>\n",
       "      <td>me duele la muela del juicio superior derecha</td>\n",
       "      <td>my upper right wisdom tooth hurts</td>\n",
       "      <td>my  only</td>\n",
       "    </tr>\n",
       "    <tr>\n",
       "      <th>6</th>\n",
       "      <td>ya lo has olvidado</td>\n",
       "      <td>youve already forgotten</td>\n",
       "      <td>youve already</td>\n",
       "    </tr>\n",
       "    <tr>\n",
       "      <th>7</th>\n",
       "      <td>¿por qué llevas un suéter</td>\n",
       "      <td>why are you wearing a sweater</td>\n",
       "      <td>why are you wearing a coat</td>\n",
       "    </tr>\n",
       "    <tr>\n",
       "      <th>8</th>\n",
       "      <td>no me subestimes</td>\n",
       "      <td>dont underestimate me</td>\n",
       "      <td>dont ask me</td>\n",
       "    </tr>\n",
       "    <tr>\n",
       "      <th>9</th>\n",
       "      <td>eso fue idea mía</td>\n",
       "      <td>it was my idea</td>\n",
       "      <td>that was my idea</td>\n",
       "    </tr>\n",
       "    <tr>\n",
       "      <th>10</th>\n",
       "      <td>no estaba celoso</td>\n",
       "      <td>i was not jealous</td>\n",
       "      <td>i wasnt jealous</td>\n",
       "    </tr>\n",
       "    <tr>\n",
       "      <th>11</th>\n",
       "      <td>ella se puso enferma pero se recuperó rápido</td>\n",
       "      <td>she fell ill but got well soon</td>\n",
       "      <td>she was him as i been</td>\n",
       "    </tr>\n",
       "    <tr>\n",
       "      <th>12</th>\n",
       "      <td>es por tu propia seguridad</td>\n",
       "      <td>its for your own safety</td>\n",
       "      <td>its about your  fault</td>\n",
       "    </tr>\n",
       "    <tr>\n",
       "      <th>13</th>\n",
       "      <td>¿sabes cómo anudar una corbata</td>\n",
       "      <td>do you know how to tie a tie</td>\n",
       "      <td>do you know how to tie a tie</td>\n",
       "    </tr>\n",
       "    <tr>\n",
       "      <th>14</th>\n",
       "      <td>entra en la habitación</td>\n",
       "      <td>come into the room</td>\n",
       "      <td>come on the room</td>\n",
       "    </tr>\n",
       "  </tbody>\n",
       "</table>\n",
       "</div>"
      ],
      "text/plain": [
       "                                          Spanish  \\\n",
       "0                 tom sentía temblar sus rodillas   \n",
       "1                                      eso valdrá   \n",
       "2                               volveré más tarde   \n",
       "3                                 estoy reventado   \n",
       "4                                    no lo hagáis   \n",
       "5   me duele la muela del juicio superior derecha   \n",
       "6                              ya lo has olvidado   \n",
       "7                       ¿por qué llevas un suéter   \n",
       "8                                no me subestimes   \n",
       "9                                eso fue idea mía   \n",
       "10                               no estaba celoso   \n",
       "11   ella se puso enferma pero se recuperó rápido   \n",
       "12                     es por tu propia seguridad   \n",
       "13                 ¿sabes cómo anudar una corbata   \n",
       "14                         entra en la habitación   \n",
       "\n",
       "                    actual traduction                            predicted  \n",
       "0          tom felt his knees tremble             tom lost his              \n",
       "1                           thatll do               thatll do               \n",
       "2                 ill come back later       ill will back later             \n",
       "3                      i am exhausted            im exhausted               \n",
       "4                          dont do it              dont ask it              \n",
       "5   my upper right wisdom tooth hurts                 my  only              \n",
       "6             youve already forgotten           youve already               \n",
       "7       why are you wearing a sweater  why are you wearing a coat           \n",
       "8               dont underestimate me              dont ask me              \n",
       "9                      it was my idea          that was my idea             \n",
       "10                  i was not jealous          i wasnt jealous              \n",
       "11     she fell ill but got well soon       she was him as i been           \n",
       "12            its for your own safety      its about your  fault            \n",
       "13       do you know how to tie a tie  do you know how to tie a tie         \n",
       "14                 come into the room          come on the room             "
      ]
     },
     "execution_count": 32,
     "metadata": {},
     "output_type": "execute_result"
    }
   ],
   "source": [
    "pred_df.head(15)"
   ]
  },
  {
   "cell_type": "code",
   "execution_count": 33,
   "metadata": {
    "colab": {
     "base_uri": "https://localhost:8080/",
     "height": 509
    },
    "colab_type": "code",
    "executionInfo": {
     "elapsed": 359301,
     "status": "ok",
     "timestamp": 1587996315020,
     "user": {
      "displayName": "Marina Martínez Steegmann",
      "photoUrl": "",
      "userId": "13872820662452395977"
     },
     "user_tz": -120
    },
    "id": "YrCFJ63MrFsN",
    "outputId": "9d8382fd-cd6a-4b0f-9a50-868f46cfe110"
   },
   "outputs": [
    {
     "data": {
      "text/html": [
       "<div>\n",
       "<style scoped>\n",
       "    .dataframe tbody tr th:only-of-type {\n",
       "        vertical-align: middle;\n",
       "    }\n",
       "\n",
       "    .dataframe tbody tr th {\n",
       "        vertical-align: top;\n",
       "    }\n",
       "\n",
       "    .dataframe thead th {\n",
       "        text-align: right;\n",
       "    }\n",
       "</style>\n",
       "<table border=\"1\" class=\"dataframe\">\n",
       "  <thead>\n",
       "    <tr style=\"text-align: right;\">\n",
       "      <th></th>\n",
       "      <th>Spanish</th>\n",
       "      <th>actual traduction</th>\n",
       "      <th>predicted</th>\n",
       "    </tr>\n",
       "  </thead>\n",
       "  <tbody>\n",
       "    <tr>\n",
       "      <th>9806</th>\n",
       "      <td>es solo que no quiero decepcionarte</td>\n",
       "      <td>i just dont want to let you down</td>\n",
       "      <td>it just  want to  waste</td>\n",
       "    </tr>\n",
       "    <tr>\n",
       "      <th>7729</th>\n",
       "      <td>tú me diviertes</td>\n",
       "      <td>you amuse me</td>\n",
       "      <td>you worried me</td>\n",
       "    </tr>\n",
       "    <tr>\n",
       "      <th>10138</th>\n",
       "      <td>no quise lastimarte</td>\n",
       "      <td>i didnt want to hurt you</td>\n",
       "      <td>i didnt want to hurt you</td>\n",
       "    </tr>\n",
       "    <tr>\n",
       "      <th>1173</th>\n",
       "      <td>¿puedo preguntarle cuál prefiere</td>\n",
       "      <td>may i ask which you prefer</td>\n",
       "      <td>may i ask how to</td>\n",
       "    </tr>\n",
       "    <tr>\n",
       "      <th>5076</th>\n",
       "      <td>¿estás enfadado conmigo</td>\n",
       "      <td>are you angry with me</td>\n",
       "      <td>are you angry with me</td>\n",
       "    </tr>\n",
       "    <tr>\n",
       "      <th>800</th>\n",
       "      <td>¿quieres decir algo</td>\n",
       "      <td>do you want to say something</td>\n",
       "      <td>do you want something say something</td>\n",
       "    </tr>\n",
       "    <tr>\n",
       "      <th>2869</th>\n",
       "      <td>¿qué ocurre cuando mueres</td>\n",
       "      <td>what happens when you die</td>\n",
       "      <td>what time he  come</td>\n",
       "    </tr>\n",
       "    <tr>\n",
       "      <th>5962</th>\n",
       "      <td>tom espera verte en octubre</td>\n",
       "      <td>tom hopes to see you in october</td>\n",
       "      <td>tom will to stay  tv</td>\n",
       "    </tr>\n",
       "    <tr>\n",
       "      <th>1908</th>\n",
       "      <td>cualquier lugar con cama estará bien</td>\n",
       "      <td>anywhere with a bed will do</td>\n",
       "      <td>after us to   gets</td>\n",
       "    </tr>\n",
       "    <tr>\n",
       "      <th>982</th>\n",
       "      <td>me perdí en el bosque</td>\n",
       "      <td>i lost my way in the forest</td>\n",
       "      <td>i got lost in the woods</td>\n",
       "    </tr>\n",
       "    <tr>\n",
       "      <th>14607</th>\n",
       "      <td>los niños a menudo hacen estupideces</td>\n",
       "      <td>children often do stupid things</td>\n",
       "      <td>children  need send</td>\n",
       "    </tr>\n",
       "    <tr>\n",
       "      <th>13344</th>\n",
       "      <td>quiero que te sientes aquí</td>\n",
       "      <td>i want you to sit here</td>\n",
       "      <td>i want you to stay here</td>\n",
       "    </tr>\n",
       "    <tr>\n",
       "      <th>14784</th>\n",
       "      <td>tom es la persona a preguntar</td>\n",
       "      <td>tom is the person to ask</td>\n",
       "      <td>tom is the only i</td>\n",
       "    </tr>\n",
       "    <tr>\n",
       "      <th>4911</th>\n",
       "      <td>todos los manzanos fueron talados</td>\n",
       "      <td>all the apple trees were cut down</td>\n",
       "      <td>all the were</td>\n",
       "    </tr>\n",
       "    <tr>\n",
       "      <th>767</th>\n",
       "      <td>el tío está como una cabra</td>\n",
       "      <td>that guy is off his rocker</td>\n",
       "      <td>the guy is an nuts</td>\n",
       "    </tr>\n",
       "  </tbody>\n",
       "</table>\n",
       "</div>"
      ],
      "text/plain": [
       "                                    Spanish  \\\n",
       "9806    es solo que no quiero decepcionarte   \n",
       "7729                        tú me diviertes   \n",
       "10138                   no quise lastimarte   \n",
       "1173       ¿puedo preguntarle cuál prefiere   \n",
       "5076                ¿estás enfadado conmigo   \n",
       "800                     ¿quieres decir algo   \n",
       "2869              ¿qué ocurre cuando mueres   \n",
       "5962            tom espera verte en octubre   \n",
       "1908   cualquier lugar con cama estará bien   \n",
       "982                   me perdí en el bosque   \n",
       "14607  los niños a menudo hacen estupideces   \n",
       "13344            quiero que te sientes aquí   \n",
       "14784         tom es la persona a preguntar   \n",
       "4911      todos los manzanos fueron talados   \n",
       "767              el tío está como una cabra   \n",
       "\n",
       "                       actual traduction  \\\n",
       "9806    i just dont want to let you down   \n",
       "7729                        you amuse me   \n",
       "10138           i didnt want to hurt you   \n",
       "1173          may i ask which you prefer   \n",
       "5076               are you angry with me   \n",
       "800         do you want to say something   \n",
       "2869           what happens when you die   \n",
       "5962     tom hopes to see you in october   \n",
       "1908         anywhere with a bed will do   \n",
       "982          i lost my way in the forest   \n",
       "14607    children often do stupid things   \n",
       "13344             i want you to sit here   \n",
       "14784           tom is the person to ask   \n",
       "4911   all the apple trees were cut down   \n",
       "767           that guy is off his rocker   \n",
       "\n",
       "                                          predicted  \n",
       "9806                it just  want to  waste          \n",
       "7729                     you worried me              \n",
       "10138             i didnt want to hurt you           \n",
       "1173                     may i ask how to            \n",
       "5076                are you angry with me            \n",
       "800    do you want something say something           \n",
       "2869                   what time he  come            \n",
       "5962                  tom will to stay  tv           \n",
       "1908                    after us to   gets           \n",
       "982                i got lost in the woods           \n",
       "14607                children  need send             \n",
       "13344              i want you to stay here           \n",
       "14784                   tom is the only i            \n",
       "4911                       all the were              \n",
       "767                    the guy is an nuts            "
      ]
     },
     "execution_count": 33,
     "metadata": {},
     "output_type": "execute_result"
    }
   ],
   "source": [
    "pred_df.sample(15)"
   ]
  },
  {
   "cell_type": "code",
   "execution_count": null,
   "metadata": {},
   "outputs": [],
   "source": []
  }
 ],
 "metadata": {
  "accelerator": "GPU",
  "colab": {
   "collapsed_sections": [
    "B0wbcBMDrFWL"
   ],
   "machine_shape": "hm",
   "name": "80000_lines.ipynb",
   "provenance": []
  },
  "kernelspec": {
   "display_name": "Anaconda3",
   "language": "python",
   "name": "anaconda3"
  },
  "language_info": {
   "codemirror_mode": {
    "name": "ipython",
    "version": 3
   },
   "file_extension": ".py",
   "mimetype": "text/x-python",
   "name": "python",
   "nbconvert_exporter": "python",
   "pygments_lexer": "ipython3",
   "version": "3.7.3"
  }
 },
 "nbformat": 4,
 "nbformat_minor": 4
}
